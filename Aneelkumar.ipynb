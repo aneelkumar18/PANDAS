{
  "nbformat": 4,
  "nbformat_minor": 0,
  "metadata": {
    "colab": {
      "provenance": [],
      "authorship_tag": "ABX9TyO6ah69hNXhG42F1sMSI73i",
      "include_colab_link": true
    },
    "kernelspec": {
      "name": "python3",
      "display_name": "Python 3"
    },
    "language_info": {
      "name": "python"
    }
  },
  "cells": [
    {
      "cell_type": "markdown",
      "metadata": {
        "id": "view-in-github",
        "colab_type": "text"
      },
      "source": [
        "<a href=\"https://colab.research.google.com/github/aneelkumar18/PANDAS/blob/main/Aneelkumar.ipynb\" target=\"_parent\"><img src=\"https://colab.research.google.com/assets/colab-badge.svg\" alt=\"Open In Colab\"/></a>"
      ]
    },
    {
      "cell_type": "markdown",
      "source": [
        "**1. Getting Familiar with Pandas**\n",
        "\n",
        "   Pandas is a powerful data manipulation and analysis library for Python. It provides two primary data structures: Series and DataFrame. Here's how you can get started with them."
      ],
      "metadata": {
        "id": "tm8XPvVCH5eu"
      }
    },
    {
      "cell_type": "markdown",
      "source": [
        "**Creating a Series**:\n",
        "\n",
        "A Series is a one-dimensional array-like structure with labeled indices.\n",
        "\n"
      ],
      "metadata": {
        "id": "Ezjg3M0MIUZE"
      }
    },
    {
      "cell_type": "code",
      "source": [
        "import pandas as pd\n",
        "\n",
        "# Creating a Series from a list\n",
        "data = [10, 20, 30, 40, 50]\n",
        "series = pd.Series(data)\n",
        "print(\"Series:\\n\", series)\n",
        "\n",
        "# Creating a Series with custom index\n",
        "series_with_index = pd.Series(data, index=['a', 'b', 'c', 'd', 'e'])\n",
        "print(\"\\nSeries with Custom Index:\\n\", series_with_index)"
      ],
      "metadata": {
        "colab": {
          "base_uri": "https://localhost:8080/"
        },
        "id": "pZOKqZyRIbrI",
        "outputId": "1e9d4d94-bf38-4ae7-e4b0-3b381742c580"
      },
      "execution_count": 1,
      "outputs": [
        {
          "output_type": "stream",
          "name": "stdout",
          "text": [
            "Series:\n",
            " 0    10\n",
            "1    20\n",
            "2    30\n",
            "3    40\n",
            "4    50\n",
            "dtype: int64\n",
            "\n",
            "Series with Custom Index:\n",
            " a    10\n",
            "b    20\n",
            "c    30\n",
            "d    40\n",
            "e    50\n",
            "dtype: int64\n"
          ]
        }
      ]
    },
    {
      "cell_type": "markdown",
      "source": [
        "**Creating a DataFrame**:\n",
        "\n",
        "A DataFrame is a two-dimensional, size-mutable, and heterogeneous tabular data structure."
      ],
      "metadata": {
        "id": "sFwq1PXfItBR"
      }
    },
    {
      "cell_type": "code",
      "source": [
        "import pandas as pd\n",
        "\n",
        "# Creating a DataFrame from a dictionary\n",
        "data = {\n",
        "    'Name': ['Aneel', 'Bharath', 'Charan'],\n",
        "    'Age': [25, 30, 35],\n",
        "    'City': ['sklm', 'vzm', 'vskp']\n",
        "}\n",
        "df = pd.DataFrame(data)\n",
        "print(\"DataFrame:\\n\", df)"
      ],
      "metadata": {
        "colab": {
          "base_uri": "https://localhost:8080/"
        },
        "id": "rn92hr1_IyAP",
        "outputId": "5d974f17-1692-467a-b073-2ca2ecb37951"
      },
      "execution_count": 5,
      "outputs": [
        {
          "output_type": "stream",
          "name": "stdout",
          "text": [
            "DataFrame:\n",
            "       Name  Age  City\n",
            "0    Aneel   25  sklm\n",
            "1  Bharath   30   vzm\n",
            "2   Charan   35  vskp\n"
          ]
        }
      ]
    },
    {
      "cell_type": "markdown",
      "source": [
        "**2. Data Handling with Pandas**\n",
        "\n",
        "**Handling Missing Data**:\n",
        "\n",
        "You can handle missing data by filling it or dropping it.\n"
      ],
      "metadata": {
        "id": "OFd-rcNEI5e2"
      }
    },
    {
      "cell_type": "code",
      "source": [
        "import pandas as pd\n",
        "import numpy as np\n",
        "\n",
        "# Creating a DataFrame with missing values\n",
        "data = {\n",
        "    'Name': ['Aneel', 'Bharath', 'Charan', np.nan],\n",
        "    'Age': [25, np.nan, 35, 40],\n",
        "    'City': ['sklm', 'vzm', np.nan, 'vskp']\n",
        "}\n",
        "df = pd.DataFrame(data)\n",
        "\n",
        "# Filling missing values\n",
        "df_filled = df.fillna({'Name': 'Unknown', 'Age': df['Age'].mean()})\n",
        "print(\"\\nDataFrame with Missing Values Filled:\\n\", df_filled)\n",
        "\n",
        "# Dropping rows with missing values\n",
        "df_dropped = df.dropna()\n",
        "print(\"\\nDataFrame with Missing Values Dropped:\\n\", df_dropped)"
      ],
      "metadata": {
        "colab": {
          "base_uri": "https://localhost:8080/"
        },
        "id": "WqoHXFyHJsDF",
        "outputId": "fc6a3456-038f-462e-ab65-62a5c692c347"
      },
      "execution_count": 6,
      "outputs": [
        {
          "output_type": "stream",
          "name": "stdout",
          "text": [
            "\n",
            "DataFrame with Missing Values Filled:\n",
            "       Name        Age  City\n",
            "0    Aneel  25.000000  sklm\n",
            "1  Bharath  33.333333   vzm\n",
            "2   Charan  35.000000   NaN\n",
            "3  Unknown  40.000000  vskp\n",
            "\n",
            "DataFrame with Missing Values Dropped:\n",
            "     Name   Age  City\n",
            "0  Aneel  25.0  sklm\n"
          ]
        }
      ]
    },
    {
      "cell_type": "markdown",
      "source": [
        "**Removing Duplicates:**"
      ],
      "metadata": {
        "id": "bBauBiZ0J5w_"
      }
    },
    {
      "cell_type": "code",
      "source": [
        "import pandas as pd\n",
        "\n",
        "# Creating a DataFrame with duplicate rows\n",
        "data = {\n",
        "    'Name': ['Aneel', 'Bharath', 'Aneel', 'Charan'],\n",
        "    'Age': [25, 30, 25, 35]\n",
        "}\n",
        "df = pd.DataFrame(data)\n",
        "\n",
        "# Removing duplicate rows\n",
        "df_unique = df.drop_duplicates()\n",
        "print(\"\\nDataFrame with Duplicates Removed:\\n\", df_unique)"
      ],
      "metadata": {
        "colab": {
          "base_uri": "https://localhost:8080/"
        },
        "id": "Miz0fqNSJ_yJ",
        "outputId": "6e645ce7-e447-4e88-8a90-d440407d7290"
      },
      "execution_count": 7,
      "outputs": [
        {
          "output_type": "stream",
          "name": "stdout",
          "text": [
            "\n",
            "DataFrame with Duplicates Removed:\n",
            "       Name  Age\n",
            "0    Aneel   25\n",
            "1  Bharath   30\n",
            "3   Charan   35\n"
          ]
        }
      ]
    },
    {
      "cell_type": "markdown",
      "source": [
        "**Data Type Conversions:**"
      ],
      "metadata": {
        "id": "4zsktMaYKGcb"
      }
    },
    {
      "cell_type": "code",
      "source": [
        "import pandas as pd\n",
        "\n",
        "# Creating a DataFrame with mixed data types\n",
        "data = {\n",
        "    'Age': ['25', '30', '35', '40']\n",
        "}\n",
        "df = pd.DataFrame(data)\n",
        "\n",
        "# Converting data type\n",
        "df['Age'] = df['Age'].astype(float)\n",
        "print(\"\\nDataFrame with Converted Data Types:\\n\", df)"
      ],
      "metadata": {
        "colab": {
          "base_uri": "https://localhost:8080/"
        },
        "id": "F0TPEixrKLN5",
        "outputId": "61fcfffa-6165-4168-cb25-1e6ee64daf94"
      },
      "execution_count": 9,
      "outputs": [
        {
          "output_type": "stream",
          "name": "stdout",
          "text": [
            "\n",
            "DataFrame with Converted Data Types:\n",
            "     Age\n",
            "0  25.0\n",
            "1  30.0\n",
            "2  35.0\n",
            "3  40.0\n"
          ]
        }
      ]
    },
    {
      "cell_type": "markdown",
      "source": [
        "**3. Data Analysis with Pandas**\n",
        "\n",
        "Generating Summary Statistics like mean,median,standard deviation,minimum and maximum values in the data and percentiles."
      ],
      "metadata": {
        "id": "1tCaR6lwLaiA"
      }
    },
    {
      "cell_type": "code",
      "source": [
        "import pandas as pd\n",
        "\n",
        "# Creating a DataFrame\n",
        "data = {\n",
        "    'Age': [25, 30, 35, 40, 45],\n",
        "    'Salary': [50000, 60000, 70000, 80000, 90000]\n",
        "}\n",
        "df = pd.DataFrame(data)\n",
        "\n",
        "# Summary statistics\n",
        "print(\"\\nSummary Statistics:\\n\", df.describe())\n"
      ],
      "metadata": {
        "colab": {
          "base_uri": "https://localhost:8080/"
        },
        "id": "Sj8UQYT2LdEv",
        "outputId": "fc52d29b-a7e1-427d-c350-910d79e97ada"
      },
      "execution_count": 10,
      "outputs": [
        {
          "output_type": "stream",
          "name": "stdout",
          "text": [
            "\n",
            "Summary Statistics:\n",
            "              Age        Salary\n",
            "count   5.000000      5.000000\n",
            "mean   35.000000  70000.000000\n",
            "std     7.905694  15811.388301\n",
            "min    25.000000  50000.000000\n",
            "25%    30.000000  60000.000000\n",
            "50%    35.000000  70000.000000\n",
            "75%    40.000000  80000.000000\n",
            "max    45.000000  90000.000000\n"
          ]
        }
      ]
    },
    {
      "cell_type": "markdown",
      "source": [
        "**Grouping Data and Applying Aggregates:**"
      ],
      "metadata": {
        "id": "hUz-jXsVL5pp"
      }
    },
    {
      "cell_type": "code",
      "source": [
        "import pandas as pd\n",
        "\n",
        "# Creating a DataFrame\n",
        "data = {\n",
        "    'Department': ['HR', 'IT', 'IT', 'HR', 'Finance'],\n",
        "    'Salary': [50000, 60000, 65000, 55000, 70000]\n",
        "}\n",
        "df = pd.DataFrame(data)\n",
        "\n",
        "# Group by 'Department' and calculate the mean salary\n",
        "grouped = df.groupby('Department').mean()\n",
        "print(\"\\nGrouped Data and Aggregates:\\n\", grouped)"
      ],
      "metadata": {
        "colab": {
          "base_uri": "https://localhost:8080/"
        },
        "id": "ZZIQN6eoMCq2",
        "outputId": "ce048073-494b-4a0b-910c-bf7c2dc39023"
      },
      "execution_count": 11,
      "outputs": [
        {
          "output_type": "stream",
          "name": "stdout",
          "text": [
            "\n",
            "Grouped Data and Aggregates:\n",
            "              Salary\n",
            "Department         \n",
            "Finance     70000.0\n",
            "HR          52500.0\n",
            "IT          62500.0\n"
          ]
        }
      ]
    },
    {
      "cell_type": "markdown",
      "source": [
        "**Merging, Joining, and Concatenating DataFrames:**"
      ],
      "metadata": {
        "id": "Mb7im-U4MNPk"
      }
    },
    {
      "cell_type": "code",
      "source": [
        "import pandas as pd\n",
        "\n",
        "# Creating DataFrames\n",
        "df1 = pd.DataFrame({\n",
        "    'ID': [1, 2, 3],\n",
        "    'Name': ['Aneel', 'Bharath', 'Charan']\n",
        "})\n",
        "\n",
        "df2 = pd.DataFrame({\n",
        "    'ID': [4, 5],\n",
        "    'Name': ['mohan', 'lohith']\n",
        "})\n",
        "# Concatenating DataFrames\n",
        "concatenated_df = pd.concat([df1, df2], ignore_index=True)\n",
        "print(\"\\nConcatenated DataFrame:\\n\", concatenated_df)\n"
      ],
      "metadata": {
        "colab": {
          "base_uri": "https://localhost:8080/"
        },
        "id": "DcJO3h2eMRwd",
        "outputId": "e441c553-044a-4418-f93d-f2af7f2708c6"
      },
      "execution_count": 15,
      "outputs": [
        {
          "output_type": "stream",
          "name": "stdout",
          "text": [
            "\n",
            "Concatenated DataFrame:\n",
            "    ID     Name\n",
            "0   1    Aneel\n",
            "1   2  Bharath\n",
            "2   3   Charan\n",
            "3   4    mohan\n",
            "4   5   lohith\n"
          ]
        }
      ]
    },
    {
      "cell_type": "markdown",
      "source": [
        "**4. Application in Data Science**\n",
        "\n",
        "**Advantages of Using Pandas**:\n",
        "\n",
        "**Efficient Data Handling**: Pandas provides powerful and flexible tools for manipulating numerical tables and time series data.\n",
        "\n",
        "**Data Cleaning:** It simplifies data cleaning processes like handling missing data, removing duplicates, and type conversion.\n",
        "\n",
        "**Data Analysis:** Functions like groupby, pivot_table, and various aggregation methods make data analysis efficient and intuitive.\n",
        "Real-World Examples:\n",
        "\n",
        "**Data Cleaning:** Pandas is extensively used in data cleaning tasks, preparing raw data for analysis or modeling.\n",
        "\n",
        "**Exploratory Data Analysis (EDA):** During EDA, Pandas helps in understanding data distributions, relationships, and outliers.\n",
        "\n",
        "**Financial Analysis:** Financial analysts use Pandas to manipulate large datasets, calculate metrics, and generate reports.\n",
        "\n",
        "**Machine Learning:** Pandas is often used for preprocessing data before applying machine learning models, including tasks like feature engineering and data splitting."
      ],
      "metadata": {
        "id": "Q-fYx-c1NTLC"
      }
    }
  ]
}